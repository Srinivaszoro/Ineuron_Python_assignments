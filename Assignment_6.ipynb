{
  "cells": [
    {
      "cell_type": "markdown",
      "metadata": {
        "id": "LrDqcmIKChRo"
      },
      "source": [
        "### 1. What are escape characters, and how do you use them?\n"
      ]
    },
    {
      "cell_type": "markdown",
      "metadata": {
        "id": "X40lxzHQEKXr"
      },
      "source": [
        "##### Ans--> Escape characters are used to insert those characters in string value that are otherwise difficult to write into code. An escape character is a backslash (\\\\) followed by the character we want to insert into the code.\n",
        "\n",
        "example: txt = \"we are \\\\\"GREATFUL\\\\\" to you.\""
      ]
    },
    {
      "cell_type": "markdown",
      "metadata": {
        "id": "b3H0d13kCmqV"
      },
      "source": [
        "### 2. What do the escape characters n and t stand for?\n"
      ]
    },
    {
      "cell_type": "markdown",
      "metadata": {
        "id": "-oVqgm3THi_z"
      },
      "source": [
        "##### Ans--> \\n stands for new line character and \\t stands for tab character"
      ]
    },
    {
      "cell_type": "markdown",
      "metadata": {
        "id": "koTukrCrCgcE"
      },
      "source": [
        "### 3. What is the way to include backslash characters in a string?\n"
      ]
    },
    {
      "cell_type": "markdown",
      "metadata": {
        "id": "U_mCSQNVHzfE"
      },
      "source": [
        "##### Ans--> The backslash character can be included in a string by using double backslash characters (\\\\\\\\)\n"
      ]
    },
    {
      "cell_type": "markdown",
      "metadata": {
        "id": "8RVe_yaHCoW1"
      },
      "source": [
        "### 4. The string \"Howl's Moving Castle\" is a correct value. Why isn't the single quote character in the word Howl's not escaped a problem?\n"
      ]
    },
    {
      "cell_type": "markdown",
      "metadata": {
        "id": "waG3Ql7GJCEa"
      },
      "source": [
        "##### Ans--> It is correct as we have used double quotes \" \" to enclose the complete string."
      ]
    },
    {
      "cell_type": "markdown",
      "metadata": {
        "id": "K9n7z48KCoeI"
      },
      "source": [
        "### 5. How do you write a string of newlines if you don&#39;t want to use the n character?\n"
      ]
    },
    {
      "cell_type": "markdown",
      "metadata": {
        "id": "PM9QukgMJnD3"
      },
      "source": [
        "##### Ans--> We can use multiline strings to write newlines if we dont want to use the n character. We can do so by enclosing our string by three single or double quotes.\n",
        "\n",
        "\n",
        "\n",
        "```\n",
        "t = '''\n",
        "this is line1\n",
        "this is line 2\n",
        "this is line 3\n",
        "'''\n",
        "```\n",
        "\n"
      ]
    },
    {
      "cell_type": "markdown",
      "metadata": {
        "id": "CR-lTT-CCol3"
      },
      "source": [
        "### 6. What are the values of the given expressions?\n",
        "\n",
        "\n",
        "```\n",
        "'Hello, world!'[1]\n",
        "'Hello, world!'[0:5]\n",
        "'Hello, world!'[:5]\n",
        "'Hello, world!'[3:]\n",
        "```\n",
        "\n",
        "\n",
        "\n"
      ]
    },
    {
      "cell_type": "markdown",
      "metadata": {
        "id": "w_ubR6SDKpdc"
      },
      "source": [
        "##### Ans-->\n",
        "\n",
        "\n",
        "```\n",
        "'Hello, world!'[1] \n",
        "\n",
        "--> results in 'e'\n",
        "\n",
        "```\n",
        "\n",
        "```\n",
        "'Hello, world!'[0:5]\n",
        "\n",
        "--> results in 'Hello'\n",
        "```\n",
        "\n",
        "```\n",
        "'Hello, world!'[:5]\n",
        "\n",
        "--> results in 'Hello'\n",
        "```\n",
        "\n",
        "```\n",
        "'Hello, world!'[3:]\n",
        "\n",
        "--> results in 'lo, world!'\n",
        "```\n",
        "\n",
        "\n",
        "\n",
        "\n",
        "\n",
        "\n",
        "\n"
      ]
    },
    {
      "cell_type": "markdown",
      "metadata": {
        "id": "8nHLVQw4Cotz"
      },
      "source": [
        "### 7. What are the values of the following expressions?\n",
        "\n",
        "\n",
        "```\n",
        "'Hello'.upper()\n",
        "'Hello'.upper().isupper()\n",
        "'Hello'.upper().lower()\n",
        "```\n",
        "\n",
        "\n"
      ]
    },
    {
      "cell_type": "markdown",
      "metadata": {
        "id": "w0X-9R3-L9aS"
      },
      "source": [
        "#####Ans-->\n",
        "\n",
        "\n",
        "```\n",
        "'Hello'.upper()\n",
        "\n",
        "--> results in 'HELLO'\n",
        "```\n",
        "\n",
        "\n",
        "```\n",
        "'Hello'.upper().isupper()\n",
        "\n",
        "--> results in True\n",
        "```\n",
        "\n",
        "\n",
        "```\n",
        "'Hello'.upper().lower()\n",
        "\n",
        "--> results in 'hello'\n",
        "```\n",
        "\n",
        "\n",
        "\n",
        "\n"
      ]
    },
    {
      "cell_type": "markdown",
      "metadata": {
        "id": "rsFTQ2a6Co2b"
      },
      "source": [
        "### 8. What are the values of the following expressions?\n",
        "\n",
        "\n",
        "```\n",
        "'Remember, remember, the fifth of July.'.split()\n",
        "'-'.join('There can only one.'.split())\n",
        "```\n",
        "\n",
        "\n"
      ]
    },
    {
      "cell_type": "code",
      "execution_count": 1,
      "metadata": {
        "colab": {
          "base_uri": "https://localhost:8080/"
        },
        "id": "En9D6oI-NU7J",
        "outputId": "3274fba5-102e-4d2b-f327-1a643d2f9eef"
      },
      "outputs": [
        {
          "data": {
            "text/plain": [
              "['Remember,', 'remember,', 'the', 'fifth', 'of', 'July.']"
            ]
          },
          "execution_count": 1,
          "metadata": {},
          "output_type": "execute_result"
        }
      ],
      "source": [
        "'Remember, remember, the fifth of July.'.split()"
      ]
    },
    {
      "cell_type": "markdown",
      "metadata": {
        "id": "EDMQgrR7M5Th"
      },
      "source": [
        "##### Ans->>\n",
        "\n",
        "\n",
        "\n",
        "```\n",
        "'Remember, remember, the fifth of July.'.split()\n",
        "\n",
        "--> results in\n",
        "['Remember,', 'remember,', 'the', 'fifth', 'of',' July.']\n",
        "\n",
        "```\n",
        "\n",
        "\n",
        "\n",
        "```\n",
        "'-'.join('There can only one.'.split())\n",
        "\n",
        "--> results in \n",
        "\n",
        "'There-can-only-one.'\n",
        "```\n",
        "\n",
        "\n"
      ]
    },
    {
      "cell_type": "markdown",
      "metadata": {
        "id": "0Gul2SCECpJf"
      },
      "source": [
        "### 9. What are the methods for right-justifying, left-justifying, and centering a string?\n"
      ]
    },
    {
      "cell_type": "markdown",
      "metadata": {
        "id": "WnIaMRKFSiri"
      },
      "source": [
        "##### Ans--> The methods are below:\n",
        "\n",
        "* rjust() is used for right justifying.\n",
        "* ljust() is used for left justifying.\n",
        "* center() is used for centering a string."
      ]
    },
    {
      "cell_type": "markdown",
      "metadata": {
        "id": "t36KY8osCpSG"
      },
      "source": [
        "### 10. What is the best way to remove whitespace characters from the start or end?"
      ]
    },
    {
      "cell_type": "markdown",
      "metadata": {
        "id": "FKd4O1GEUP6J"
      },
      "source": [
        "##### Ans--> The best way to remove whitespace characters from the start or end is using lstrip() and rstrip() functions."
      ]
    },
    {
      "cell_type": "code",
      "execution_count": null,
      "metadata": {
        "id": "qdK4o_8TUgfk"
      },
      "outputs": [],
      "source": []
    },
    {
      "cell_type": "code",
      "execution_count": null,
      "metadata": {},
      "outputs": [],
      "source": []
    }
  ],
  "metadata": {
    "colab": {
      "provenance": []
    },
    "kernelspec": {
      "display_name": "Python 3",
      "name": "python3"
    },
    "language_info": {
      "codemirror_mode": {
        "name": "ipython",
        "version": 3
      },
      "file_extension": ".py",
      "mimetype": "text/x-python",
      "name": "python",
      "nbconvert_exporter": "python",
      "pygments_lexer": "ipython3",
      "version": "3.11.5"
    }
  },
  "nbformat": 4,
  "nbformat_minor": 0
}
