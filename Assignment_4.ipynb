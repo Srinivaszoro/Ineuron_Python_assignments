{
  "cells": [
    {
      "cell_type": "markdown",
      "metadata": {
        "id": "-TqEmVeWGVlo"
      },
      "source": [
        "## 1. What exactly is [ ]?\n",
        "Sol: [ ] represents empty list value i.e. it contains no items."
      ]
    },
    {
      "cell_type": "code",
      "execution_count": 9,
      "metadata": {
        "colab": {
          "base_uri": "https://localhost:8080/"
        },
        "id": "twF1WbdJJ2Lb",
        "outputId": "5b7c1bd5-cbec-44ed-ffe0-29655dbb2d17"
      },
      "outputs": [
        {
          "data": {
            "text/plain": [
              "0"
            ]
          },
          "execution_count": 9,
          "metadata": {},
          "output_type": "execute_result"
        }
      ],
      "source": [
        "## Solution\n",
        "list1 = []\n",
        "len(list1)"
      ]
    },
    {
      "cell_type": "markdown",
      "metadata": {
        "id": "FId_8eygG76n"
      },
      "source": [
        "## 2. In a list of values stored in a variable called spam, how would you assign the value 'hello' as the third value? (Assume [2, 4, 6, 8, 10] are in spam.)\n",
        "\n",
        "Sol: We can do it in 2 ways"
      ]
    },
    {
      "cell_type": "code",
      "execution_count": 1,
      "metadata": {
        "colab": {
          "base_uri": "https://localhost:8080/"
        },
        "id": "rZmC5G9bGWyz",
        "outputId": "97c8c90b-f3d7-439e-e7c8-25142e69f3ac"
      },
      "outputs": [
        {
          "data": {
            "text/plain": [
              "[2, 4, 'hello', 8, 10]"
            ]
          },
          "execution_count": 1,
          "metadata": {},
          "output_type": "execute_result"
        }
      ],
      "source": [
        "## Solution 1: using subscript / location \n",
        "spam = [2,4,6,8,10]\n",
        "spam[2] = \"hello\"\n",
        "spam"
      ]
    },
    {
      "cell_type": "code",
      "execution_count": 2,
      "metadata": {
        "colab": {
          "base_uri": "https://localhost:8080/"
        },
        "id": "4wtKRSnaICa2",
        "outputId": "bd338a0c-2e6e-40fe-b70b-9ebc7e30b63d"
      },
      "outputs": [
        {
          "data": {
            "text/plain": [
              "[2, 4, 'hello', 6, 8, 10]"
            ]
          },
          "execution_count": 2,
          "metadata": {},
          "output_type": "execute_result"
        }
      ],
      "source": [
        "## Solution 2: using insert() function\n",
        "spam = [2,4,6,8,10]\n",
        "spam.insert(2,\"hello\")\n",
        "spam"
      ]
    },
    {
      "cell_type": "markdown",
      "metadata": {
        "id": "vCJ3pl7_GVuw"
      },
      "source": [
        "##3. What is the value of spam[int(int('3' * 2) / 11)]?\n",
        "\n",
        "Sol: d"
      ]
    },
    {
      "cell_type": "code",
      "execution_count": 3,
      "metadata": {
        "colab": {
          "base_uri": "https://localhost:8080/",
          "height": 35
        },
        "id": "LnlX6H_fIVgz",
        "outputId": "8a7f03ba-fe04-4b5f-93b5-ee8db23eced2"
      },
      "outputs": [
        {
          "data": {
            "application/vnd.google.colaboratory.intrinsic+json": {
              "type": "string"
            },
            "text/plain": [
              "'d'"
            ]
          },
          "execution_count": 3,
          "metadata": {},
          "output_type": "execute_result"
        }
      ],
      "source": [
        "## Solution:\n",
        "spam = ['a','b','c','d']\n",
        "\n",
        "spam[int(int('3'*2)/11)]"
      ]
    },
    {
      "cell_type": "markdown",
      "metadata": {
        "id": "Pkhy3u17IUeN"
      },
      "source": [
        "## 4. What is the value of spam[-1]?\n",
        "\n",
        "Sol: d"
      ]
    },
    {
      "cell_type": "code",
      "execution_count": 4,
      "metadata": {
        "colab": {
          "base_uri": "https://localhost:8080/",
          "height": 35
        },
        "id": "dyAdjvaqInE4",
        "outputId": "04a4c87e-ad61-4d6e-a14f-b492b1034882"
      },
      "outputs": [
        {
          "data": {
            "application/vnd.google.colaboratory.intrinsic+json": {
              "type": "string"
            },
            "text/plain": [
              "'d'"
            ]
          },
          "execution_count": 4,
          "metadata": {},
          "output_type": "execute_result"
        }
      ],
      "source": [
        "## Solution\n",
        "spam[-1]"
      ]
    },
    {
      "cell_type": "markdown",
      "metadata": {
        "id": "lXtSygG0IUg2"
      },
      "source": [
        "## 5. What is the value of spam[:2]?\n",
        "\n",
        "Sol: ['a','b']"
      ]
    },
    {
      "cell_type": "code",
      "execution_count": 5,
      "metadata": {
        "colab": {
          "base_uri": "https://localhost:8080/"
        },
        "id": "GfGokwOSIxOX",
        "outputId": "64f0457c-30cd-4fbd-d2c5-b99570c92bf0"
      },
      "outputs": [
        {
          "data": {
            "text/plain": [
              "['a', 'b']"
            ]
          },
          "execution_count": 5,
          "metadata": {},
          "output_type": "execute_result"
        }
      ],
      "source": [
        "## Solution\n",
        "spam[:2]"
      ]
    },
    {
      "cell_type": "markdown",
      "metadata": {
        "id": "6duIXirsIUj7"
      },
      "source": [
        "## Let's pretend bacon has the list [3.14, 'cat', 11, 'cat', True] for the next three questions."
      ]
    },
    {
      "cell_type": "code",
      "execution_count": 13,
      "metadata": {
        "id": "lYxR8GEbJpvC"
      },
      "outputs": [],
      "source": [
        "bacon = [3.14, 'cat', 11, 'cat', True]"
      ]
    },
    {
      "cell_type": "markdown",
      "metadata": {
        "id": "wuzi3sqmJfCu"
      },
      "source": [
        "## 6. What is the value of bacon.index('cat')?\n",
        "\n",
        "Sol: 1"
      ]
    },
    {
      "cell_type": "code",
      "execution_count": 14,
      "metadata": {
        "colab": {
          "base_uri": "https://localhost:8080/"
        },
        "id": "1e6a5-pnIT1l",
        "outputId": "3ce36dc5-a9b3-4c9d-fa5a-7a78fc28bd8f"
      },
      "outputs": [
        {
          "data": {
            "text/plain": [
              "1"
            ]
          },
          "execution_count": 14,
          "metadata": {},
          "output_type": "execute_result"
        }
      ],
      "source": [
        "## Solution\n",
        "bacon.index('cat')"
      ]
    },
    {
      "cell_type": "markdown",
      "metadata": {
        "id": "yJ0RFv-0KC6H"
      },
      "source": [
        "## 7. How does bacon.append(99) change the look of the list value in bacon?\n",
        "\n",
        "Sol: 99 is appended at the end of the list"
      ]
    },
    {
      "cell_type": "code",
      "execution_count": 15,
      "metadata": {
        "colab": {
          "base_uri": "https://localhost:8080/"
        },
        "id": "4qpx4Mu9IT4K",
        "outputId": "155f5ccd-26b9-4ee5-dec5-85da37f8c922"
      },
      "outputs": [
        {
          "name": "stdout",
          "output_type": "stream",
          "text": [
            "List before Append: [3.14, 'cat', 11, 'cat', True]\n",
            "List after Append: [3.14, 'cat', 11, 'cat', True, 99]\n"
          ]
        }
      ],
      "source": [
        "## Solution\n",
        "print(f\"List before Append: {bacon}\")\n",
        "\n",
        "bacon.append(99)\n",
        "\n",
        "print(f\"List after Append: {bacon}\")"
      ]
    },
    {
      "cell_type": "markdown",
      "metadata": {
        "id": "M1r3ofbEKsn-"
      },
      "source": [
        "## 8. How does bacon.remove(&#39;cat&#39;) change the look of the list in bacon?\n",
        "\n",
        "Sol: It removes first occurence of the 'cat' from the bacon list."
      ]
    },
    {
      "cell_type": "code",
      "execution_count": 16,
      "metadata": {
        "colab": {
          "base_uri": "https://localhost:8080/"
        },
        "id": "Ka3mnM36IT7K",
        "outputId": "17158b79-3e0d-41c7-f867-a31942031bca"
      },
      "outputs": [
        {
          "name": "stdout",
          "output_type": "stream",
          "text": [
            "List before remove: [3.14, 'cat', 11, 'cat', True, 99]\n",
            "List after remove: [3.14, 11, 'cat', True, 99]\n"
          ]
        }
      ],
      "source": [
        "## Solution\n",
        "print(f\"List before remove: {bacon}\")\n",
        "\n",
        "bacon.remove('cat')\n",
        "\n",
        "print(f\"List after remove: {bacon}\")\n"
      ]
    },
    {
      "cell_type": "markdown",
      "metadata": {
        "id": "hzAz0jrcLJG5"
      },
      "source": [
        "## 9. What are the list concatenation and list replication operators?\n",
        "\n",
        "Sol: For concatenation we use + operator and For replication we use * operator"
      ]
    },
    {
      "cell_type": "code",
      "execution_count": 20,
      "metadata": {
        "colab": {
          "base_uri": "https://localhost:8080/"
        },
        "id": "QFkW4amrLJaO",
        "outputId": "1136a133-ec34-432a-ef6a-e7cff7ff41c6"
      },
      "outputs": [
        {
          "name": "stdout",
          "output_type": "stream",
          "text": [
            "Concatenation\n",
            "-------------\n",
            "List 1: ['a', 'b', 'c']\n",
            "List 2: [2, 3, 4]\n",
            "List after Concatenation: ['a', 'b', 'c', 2, 3, 4]\n",
            "\n",
            "Replication\n",
            "-------------\n",
            "List : ['x', 'y', 4]\n",
            "List after Replication: ['x', 'y', 4, 'x', 'y', 4]\n"
          ]
        }
      ],
      "source": [
        "## Solution\n",
        "\n",
        "## For concatenation we use + operator\n",
        "list1 = ['a','b','c']\n",
        "list2 = [2, 3, 4]\n",
        "\n",
        "list3 = list1 + list2\n",
        "print(\"Concatenation\")\n",
        "print(\"-------------\")\n",
        "print(f'List 1: {list1}')\n",
        "print(f'List 2: {list2}')\n",
        "print(f'List after Concatenation: {list3}')\n",
        "\n",
        "## For replication we use * operator\n",
        "\n",
        "list4 = ['x','y', 4]\n",
        "list5 = list4 * 2\n",
        "\n",
        "print(\"\\nReplication\")\n",
        "print(\"-------------\")\n",
        "print(f'List : {list4}')\n",
        "print(f'List after Replication: {list5}')\n"
      ]
    },
    {
      "cell_type": "markdown",
      "metadata": {
        "id": "35CwE7F8LJkw"
      },
      "source": [
        "## 10. What is difference between the list methods append() and insert()?\n",
        "\n",
        "Sol: append() method adds new item at the end of the list while insert() can allow insertion at a particular index/position in the list."
      ]
    },
    {
      "cell_type": "code",
      "execution_count": 21,
      "metadata": {
        "colab": {
          "base_uri": "https://localhost:8080/"
        },
        "id": "ucIoPuNELJt4",
        "outputId": "515ce802-be33-4cae-ec8d-12faa1878be1"
      },
      "outputs": [
        {
          "name": "stdout",
          "output_type": "stream",
          "text": [
            "[2, 14, 5, 16, 80, 4]\n",
            "[2, 14, 31, 5, 16, 80, 4]\n"
          ]
        }
      ],
      "source": [
        "## Solution\n",
        "A = [2,14,5,16,80]\n",
        "\n",
        "A.append(4)\n",
        "print(A)\n",
        "\n",
        "A.insert(2,31)\n",
        "print(A)"
      ]
    },
    {
      "cell_type": "markdown",
      "metadata": {
        "id": "_UCvLXL8Md7D"
      },
      "source": [
        "## 11. What are the two methods for removing items from a list?\n",
        "\n",
        "Sol: pop() and remove() are 2 methods used to remove items from a list"
      ]
    },
    {
      "cell_type": "code",
      "execution_count": 22,
      "metadata": {
        "colab": {
          "base_uri": "https://localhost:8080/"
        },
        "id": "w5P2lwZAMePV",
        "outputId": "2bd34aa5-5ea7-41c4-eb2e-f4404a294a55"
      },
      "outputs": [
        {
          "name": "stdout",
          "output_type": "stream",
          "text": [
            "Original List: [4, 15, 'Milk', 34.5, 'High']\n",
            "After pop() List: [4, 15, 'Milk', 34.5]\n",
            "After remove(15) List: [4, 'Milk', 34.5]\n"
          ]
        }
      ],
      "source": [
        "## Solution\n",
        "A = [4,15,'Milk',34.5,\"High\"]\n",
        "print(f\"Original List: {A}\")\n",
        "\n",
        "A.pop()\n",
        "\n",
        "print(f\"After pop() List: {A}\")\n",
        "\n",
        "A.remove(15)\n",
        "\n",
        "print(f\"After remove(15) List: {A}\")"
      ]
    },
    {
      "cell_type": "markdown",
      "metadata": {
        "id": "81PEIK1RMeYA"
      },
      "source": [
        "## 12. Describe how list values and string values are identical.\n",
        "\n",
        "Sol: \n",
        "* list and strings are both sequences. \n",
        "* Both can be concatenated and replicated. \n",
        "* Elements of both can be accessed using square brackets."
      ]
    },
    {
      "cell_type": "markdown",
      "metadata": {
        "id": "w8F92b_EMeoF"
      },
      "source": [
        "## 13. What's the difference between tuples and lists?\n",
        "\n",
        "Sol: Difference between tuples and lists:\n",
        "* tuples are immutable i.e. they cannot be modified while lists are mutable i.e. we can change the values of lists. \n",
        "* tuples are denoted by round brackets while lists are denoted by square brackets.\n"
      ]
    },
    {
      "cell_type": "markdown",
      "metadata": {
        "id": "nl-BxG51N40K"
      },
      "source": [
        "## 14. How do you type a tuple value that only contains the integer 42?\n",
        "\n",
        "Sol: For python to recognize tuple with only one item we need to add comma at the end "
      ]
    },
    {
      "cell_type": "code",
      "execution_count": 23,
      "metadata": {
        "colab": {
          "base_uri": "https://localhost:8080/"
        },
        "id": "lgCyVFdPMexL",
        "outputId": "3283f25d-0fed-4fab-b9e2-8224942c1c2c"
      },
      "outputs": [
        {
          "data": {
            "text/plain": [
              "tuple"
            ]
          },
          "execution_count": 23,
          "metadata": {},
          "output_type": "execute_result"
        }
      ],
      "source": [
        "## Solution\n",
        "t = (42,)\n",
        "type(t)"
      ]
    },
    {
      "cell_type": "markdown",
      "metadata": {
        "id": "YPovMGBSOKY9"
      },
      "source": [
        "## 15. How do you get a list value's tuple form? How do you get a tuple value's list form?\n",
        "\n",
        "Sol: By using tuple() and list() functions."
      ]
    },
    {
      "cell_type": "code",
      "execution_count": 3,
      "metadata": {
        "colab": {
          "base_uri": "https://localhost:8080/"
        },
        "id": "HiAI3FYOy2bv",
        "outputId": "a3f8b359-4289-47af-fd86-713a4735a6d8"
      },
      "outputs": [
        {
          "name": "stdout",
          "output_type": "stream",
          "text": [
            "list1_to_tuple type is <class 'tuple'>\n",
            "tuple_to_list typle is <class 'list'>\n"
          ]
        }
      ],
      "source": [
        "list1 = [4,12,15,110,45,9]\n",
        "tuple1 = (5,1,67,12)\n",
        "\n",
        "list1_to_tuple = tuple(list1)\n",
        "print(f\"list1_to_tuple type is {type(list1_to_tuple)}\")\n",
        "\n",
        "tuple_to_list = list(tuple1)\n",
        "print(f\"tuple_to_list typle is {type(tuple_to_list)}\")\n"
      ]
    },
    {
      "cell_type": "markdown",
      "metadata": {
        "id": "s39TpOsxOSvS"
      },
      "source": [
        "## 16. Variables that &quot;contain&quot; list values are not necessarily lists themselves. Instead, what do they contain?\n",
        "\n",
        "Sol: They contain references to the values of the list."
      ]
    },
    {
      "cell_type": "markdown",
      "metadata": {
        "id": "SCyJNLv6Od95"
      },
      "source": [
        "## 17. How do you distinguish between copy.copy() and copy.deepcopy()?\n",
        "\n",
        "Sol: copy.copy() does shallow copy of the list i.e. contains references of the lists within the lists whereas copy.deepcopy() makes a deep copy of the lists i.e. deepcopy will actually duplcate lists contained within the lists."
      ]
    },
    {
      "cell_type": "code",
      "execution_count": 25,
      "metadata": {
        "colab": {
          "base_uri": "https://localhost:8080/"
        },
        "id": "lubLVUFjMe2i",
        "outputId": "a6f7b339-fd0a-431c-eaeb-9d47915f7f06"
      },
      "outputs": [
        {
          "name": "stdout",
          "output_type": "stream",
          "text": [
            "copy.copy()\n",
            "-------\n",
            "Original List Before copy: \n",
            "[1, 2, 4, [14, 16, 18], 11]\n",
            "\n",
            "New List After copy: \n",
            "[1, 2, 4, [14, 200, 18], 11]\n",
            "\n",
            "Original List After copy: \n",
            "[1, 2, 4, [14, 200, 18], 11]\n",
            "\n",
            "deepcopy.deepcopy()\n",
            "-------\n",
            "Original List Before deepcopy: \n",
            "[1, 2, 4, [14, 200, 18], 11]\n",
            "\n",
            "New List After deepcopy: \n",
            "[1, 2, 4, [100, 200, 18], 11]\n",
            "\n",
            "Original List After deepcopy: \n",
            "[1, 2, 4, [14, 200, 18], 11]\n",
            "\n"
          ]
        }
      ],
      "source": [
        "## Solution\n",
        "import copy\n",
        "orig_list = [1,2,4,[14,16,18],11]\n",
        "\n",
        "copy_list = copy.copy(orig_list)\n",
        "\n",
        "print(\"copy.copy()\")\n",
        "print(\"-------\")\n",
        "\n",
        "print(f\"Original List Before copy: \\n{orig_list}\\n\")\n",
        "\n",
        "copy_list[3][1] = 200\n",
        "\n",
        "print(f\"New List After copy: \\n{copy_list}\\n\")\n",
        "print(f\"Original List After copy: \\n{orig_list}\\n\")\n",
        "\n",
        "deep_list = copy.deepcopy(copy_list)\n",
        "\n",
        "print(\"deepcopy.deepcopy()\")\n",
        "print(\"-------\")\n",
        "\n",
        "print(f\"Original List Before deepcopy: \\n{orig_list}\\n\")\n",
        "\n",
        "deep_list[3][0] = 100\n",
        "\n",
        "print(f\"New List After deepcopy: \\n{deep_list}\\n\")\n",
        "print(f\"Original List After deepcopy: \\n{orig_list}\\n\")"
      ]
    },
    {
      "cell_type": "code",
      "execution_count": null,
      "metadata": {
        "id": "FGQO8_1iIT9q"
      },
      "outputs": [],
      "source": []
    }
  ],
  "metadata": {
    "colab": {
      "collapsed_sections": [],
      "provenance": []
    },
    "kernelspec": {
      "display_name": "Python 3",
      "name": "python3"
    },
    "language_info": {
      "name": "python"
    }
  },
  "nbformat": 4,
  "nbformat_minor": 0
}
