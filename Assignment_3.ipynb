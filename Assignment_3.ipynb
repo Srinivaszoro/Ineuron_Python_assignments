{
  "cells": [
    {
      "cell_type": "markdown",
      "metadata": {
        "id": "O1QJJz2bthix"
      },
      "source": [
        "### 1. Why are functions advantageous to have in your programs?\n"
      ]
    },
    {
      "cell_type": "markdown",
      "metadata": {
        "id": "95Blq9jFt9tr"
      },
      "source": [
        "##### Ans--> Functions are advantageous as:\n",
        "* it helps in writing reusable code.\n",
        "* programs are east to maintain i.e. they are easy to read and make changes to the code in future.\n",
        "* programs are less in size."
      ]
    },
    {
      "cell_type": "markdown",
      "metadata": {
        "id": "dBp6MPXhthgS"
      },
      "source": [
        "### 2. When does the code in a function run: when it&#39;s specified or when it&#39;s called?\n"
      ]
    },
    {
      "cell_type": "markdown",
      "metadata": {
        "id": "swaruSrIvj0F"
      },
      "source": [
        "##### Ans--> The code that is written inside function executes when it is called in the program."
      ]
    },
    {
      "cell_type": "markdown",
      "metadata": {
        "id": "ULxcFMjpthd7"
      },
      "source": [
        "### 3. What statement creates a function?\n"
      ]
    },
    {
      "cell_type": "markdown",
      "metadata": {
        "id": "yz-zGsaZvw20"
      },
      "source": [
        "##### And--> We create function by using the \"def\" keyword followed by the program name.\n",
        "Example: \n",
        "\n",
        "\n",
        "```\n",
        "def my_program_name:\n",
        "```\n",
        "\n"
      ]
    },
    {
      "cell_type": "markdown",
      "metadata": {
        "id": "CDvkDx_Cthbl"
      },
      "source": [
        "### 4. What is the difference between a function and a function call?\n"
      ]
    },
    {
      "cell_type": "markdown",
      "metadata": {
        "id": "m-e17a5LwJ8O"
      },
      "source": [
        "##### Ans--> Function is where we define/write the code statements within the def section whereas function call is when the code defined within the function actually executes. The function call evalutes to the functions return value if defined."
      ]
    },
    {
      "cell_type": "markdown",
      "metadata": {
        "id": "46JhYZQwthZR"
      },
      "source": [
        "### 5. How many global scopes are there in a Python program? How many local scopes?\n"
      ]
    },
    {
      "cell_type": "markdown",
      "metadata": {
        "id": "0Ba03DnPxaho"
      },
      "source": [
        "##### Ans--> There is one global scope and local scope is created whenever function is called."
      ]
    },
    {
      "cell_type": "markdown",
      "metadata": {
        "id": "fZe_MiQJthWX"
      },
      "source": [
        "### 6. What happens to variables in a local scope when the function call returns?\n"
      ]
    },
    {
      "cell_type": "markdown",
      "metadata": {
        "id": "DL5iMvHq4Azu"
      },
      "source": [
        "##### Ans--> When the function call returns all the local scope variables are destroyed."
      ]
    },
    {
      "cell_type": "markdown",
      "metadata": {
        "id": "egIdyshTthIc"
      },
      "source": [
        "### 7. What is the concept of a return value? Is it possible to have a return value in an expression?\n"
      ]
    },
    {
      "cell_type": "markdown",
      "metadata": {
        "id": "o1_MwBZ24N3Q"
      },
      "source": [
        "##### Ans--> A return value is the the value returned to the function call. The return value can be used in an expression."
      ]
    },
    {
      "cell_type": "markdown",
      "metadata": {
        "id": "xna0SwmuttX-"
      },
      "source": [
        "### 8. If a function does not have a return statement, what is the return value of a call to that function?\n"
      ]
    },
    {
      "cell_type": "markdown",
      "metadata": {
        "id": "G3RzHWuc4fxU"
      },
      "source": [
        "##### Ans--> The function returns None if there is no return value of a call to the function."
      ]
    },
    {
      "cell_type": "markdown",
      "metadata": {
        "id": "49DbnVTzttbL"
      },
      "source": [
        "### 9. How do you make a function variable refer to the global variable?\n"
      ]
    },
    {
      "cell_type": "markdown",
      "metadata": {
        "id": "_4w8LNA74qA_"
      },
      "source": [
        "##### Ans--> We can used global statement to make function variable as global variable."
      ]
    },
    {
      "cell_type": "markdown",
      "metadata": {
        "id": "1tUQEFvYttdt"
      },
      "source": [
        "### 10. What is the data type of None?\n"
      ]
    },
    {
      "cell_type": "markdown",
      "metadata": {
        "id": "CDpOTXit47KP"
      },
      "source": [
        "##### Ans--> The data type of None is NoneType"
      ]
    },
    {
      "cell_type": "code",
      "execution_count": 1,
      "metadata": {
        "colab": {
          "base_uri": "https://localhost:8080/"
        },
        "id": "ACQ3z5xw5B_Q",
        "outputId": "387cb76e-d10c-4bdb-cd70-2c2055d52e80"
      },
      "outputs": [
        {
          "name": "stdout",
          "output_type": "stream",
          "text": [
            "<class 'NoneType'>\n"
          ]
        }
      ],
      "source": [
        "print(type(None))"
      ]
    },
    {
      "cell_type": "markdown",
      "metadata": {
        "id": "v65AnLSFtthC"
      },
      "source": [
        "### 11. What does the sentence import areallyourpetsnamederic do?\n"
      ]
    },
    {
      "cell_type": "markdown",
      "metadata": {
        "id": "0lzMu-4Z5Nvj"
      },
      "source": [
        "##### Ans--> The import statemend will import module name areallyourpetsnamederic into our program."
      ]
    },
    {
      "cell_type": "markdown",
      "metadata": {
        "id": "unZWBAOdt1Xi"
      },
      "source": [
        "### 12. If you had a bacon() feature in a spam module, what would you call it after importing spam?\n"
      ]
    },
    {
      "cell_type": "markdown",
      "metadata": {
        "id": "_HNe1HmT5aL0"
      },
      "source": [
        "##### Ans--> We can call this feature by using spam.bacon()"
      ]
    },
    {
      "cell_type": "markdown",
      "metadata": {
        "id": "ONx3o2hkt1cu"
      },
      "source": [
        "### 13. What can you do to save a programme from crashing if it encounters an error?\n"
      ]
    },
    {
      "cell_type": "markdown",
      "metadata": {
        "id": "xQeDXYgB5uOD"
      },
      "source": [
        "##### Ans--> We can use try clause in the part of the program that is more likely to cause an error."
      ]
    },
    {
      "cell_type": "markdown",
      "metadata": {
        "id": "cS4GNHR0t1hc"
      },
      "source": [
        "### 14. What is the purpose of the try clause? What is the purpose of the except clause?"
      ]
    },
    {
      "cell_type": "markdown",
      "metadata": {
        "id": "R76wUEN652YM"
      },
      "source": [
        "##### Ans--> We put the code that is more likely to cause an error in the try clause. The except clause contains code that is executed in case an error occurs."
      ]
    },
    {
      "cell_type": "code",
      "execution_count": null,
      "metadata": {
        "id": "L8RZWQc1WnHu"
      },
      "outputs": [],
      "source": []
    }
  ],
  "metadata": {
    "colab": {
      "collapsed_sections": [],
      "provenance": []
    },
    "kernelspec": {
      "display_name": "Python 3",
      "name": "python3"
    },
    "language_info": {
      "name": "python"
    }
  },
  "nbformat": 4,
  "nbformat_minor": 0
}
