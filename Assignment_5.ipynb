{
  "cells": [
    {
      "cell_type": "markdown",
      "metadata": {
        "id": "BTM44-gCsqO0"
      },
      "source": [
        "## 1. What does an empty dictionary's code look like?\n",
        "\n",
        "Sol: Empty dictionary can be declared by either two curly brackets {} or by using dict()\n"
      ]
    },
    {
      "cell_type": "code",
      "execution_count": 2,
      "metadata": {
        "colab": {
          "base_uri": "https://localhost:8080/"
        },
        "id": "TgAjXzGSsqz4",
        "outputId": "1e4f38b4-ea73-484d-b496-e00707db5c09"
      },
      "outputs": [
        {
          "name": "stdout",
          "output_type": "stream",
          "text": [
            "new_dict1 is empty\n",
            "new_dict2 is empty\n"
          ]
        }
      ],
      "source": [
        "## Solution\n",
        "new_dict1 = {}\n",
        "new_dict2 = dict()\n",
        "\n",
        "if new_dict1:\n",
        "  print(\"new_dict1 is not empty\")\n",
        "else:\n",
        "  print(\"new_dict1 is empty\")\n",
        "\n",
        "if new_dict2:\n",
        "  print(\"new_dict2 is not empty\")\n",
        "else:\n",
        "  print(\"new_dict2 is empty\")"
      ]
    },
    {
      "cell_type": "markdown",
      "metadata": {
        "id": "s6w66wSouPuV"
      },
      "source": [
        "## 2. What is the value of a dictionary value with the key 'foo' and the value 42?"
      ]
    },
    {
      "cell_type": "code",
      "execution_count": 3,
      "metadata": {
        "colab": {
          "base_uri": "https://localhost:8080/"
        },
        "id": "Z-k-6eDQuB-h",
        "outputId": "16900c75-5f8f-414f-e22c-98f859d608b2"
      },
      "outputs": [
        {
          "name": "stdout",
          "output_type": "stream",
          "text": [
            "The dictionary: {'foo': 42}\n"
          ]
        }
      ],
      "source": [
        "new_dict = {'foo':42}\n",
        "\n",
        "print(f\"The dictionary: {new_dict}\")"
      ]
    },
    {
      "cell_type": "markdown",
      "metadata": {
        "id": "JXEEwkUcuQmd"
      },
      "source": [
        "## 3. What is the most significant distinction between a dictionary and a list?\n",
        "\n",
        "Sol: In Dictionary items are stored as key,value pairs in an unordered way whereas in lists items are stored in an order. "
      ]
    },
    {
      "cell_type": "markdown",
      "metadata": {
        "id": "DnYVfWU2wk_T"
      },
      "source": [
        "## 4. What happens if you try to access spam['foo'] if spam is {'bar': 100}?\n",
        "\n",
        "Sol: We will get a key error"
      ]
    },
    {
      "cell_type": "code",
      "execution_count": 4,
      "metadata": {
        "colab": {
          "base_uri": "https://localhost:8080/",
          "height": 201
        },
        "id": "NdGJFL21uQvl",
        "outputId": "02990fb5-0733-4c67-ecb5-26a5bf991408"
      },
      "outputs": [
        {
          "ename": "KeyError",
          "evalue": "'foo'",
          "output_type": "error",
          "traceback": [
            "\u001b[1;31m---------------------------------------------------------------------------\u001b[0m",
            "\u001b[1;31mKeyError\u001b[0m                                  Traceback (most recent call last)",
            "Cell \u001b[1;32mIn[4], line 5\u001b[0m\n\u001b[0;32m      1\u001b[0m \u001b[38;5;66;03m## Solution\u001b[39;00m\n\u001b[0;32m      3\u001b[0m spam \u001b[38;5;241m=\u001b[39m {\u001b[38;5;124m'\u001b[39m\u001b[38;5;124mbar\u001b[39m\u001b[38;5;124m'\u001b[39m: \u001b[38;5;241m100\u001b[39m}\n\u001b[1;32m----> 5\u001b[0m spam[\u001b[38;5;124m'\u001b[39m\u001b[38;5;124mfoo\u001b[39m\u001b[38;5;124m'\u001b[39m]\n",
            "\u001b[1;31mKeyError\u001b[0m: 'foo'"
          ]
        }
      ],
      "source": [
        "## Solution\n",
        "\n",
        "spam = {'bar': 100}\n",
        "\n",
        "spam['foo']"
      ]
    },
    {
      "cell_type": "markdown",
      "metadata": {
        "id": "EvgkhpB4uQ4K"
      },
      "source": [
        "## 5. If a dictionary is stored in spam, what is the difference between the expressions 'cat' in spam and 'cat' in spam.keys()?\n",
        "\n",
        "Sol: They both are same"
      ]
    },
    {
      "cell_type": "code",
      "execution_count": 5,
      "metadata": {
        "colab": {
          "base_uri": "https://localhost:8080/"
        },
        "id": "-ibI_R7vuRAe",
        "outputId": "3031b78a-f591-46c3-ab12-ed5008037c2c"
      },
      "outputs": [
        {
          "name": "stdout",
          "output_type": "stream",
          "text": [
            "'cat' in spam : True\n",
            "'cat' in spam.keys() : True\n"
          ]
        }
      ],
      "source": [
        "## Solution\n",
        "\n",
        "spam = {'cat': 100}\n",
        "\n",
        "print(f\"'cat' in spam : {'cat' in spam}\")\n",
        "print(f\"'cat' in spam.keys() : {'cat' in spam.keys()}\")"
      ]
    },
    {
      "cell_type": "markdown",
      "metadata": {
        "id": "8mdBMDY_uRH5"
      },
      "source": [
        "## 6. If a dictionary is stored in spam, what is the difference between the expressions 'cat' in spam and 'cat' in spam.values()?\n",
        "\n",
        "Sol: 'cat' in spam checks if there is a 'cat' key in the dictionary whereas 'cat' in spam.values() checks if any value 'cat' exists for any of the keys in the dictionary. "
      ]
    },
    {
      "cell_type": "code",
      "execution_count": 6,
      "metadata": {
        "colab": {
          "base_uri": "https://localhost:8080/"
        },
        "id": "gDxz65gquRQg",
        "outputId": "15a4658e-2433-42ba-a7ad-d329be4ca1dc"
      },
      "outputs": [
        {
          "name": "stdout",
          "output_type": "stream",
          "text": [
            "'cat' in spam : True\n",
            "'cat' in spam.values() : False\n"
          ]
        }
      ],
      "source": [
        "## Solution\n",
        "\n",
        "spam = {'cat': 100}\n",
        "\n",
        "print(f\"'cat' in spam : {'cat' in spam}\")\n",
        "print(f\"'cat' in spam.values() : {'cat' in spam.values()}\")"
      ]
    },
    {
      "cell_type": "markdown",
      "metadata": {
        "id": "UyF6B0LquRYn"
      },
      "source": [
        "## 7. What is a shortcut for the following code?\n",
        "\n",
        "```\n",
        "if 'color' not in spam:\n",
        "  spam['color&'] = 'black'\n",
        "```\n",
        "\n",
        "Sol: It can be written by using setdefault() function\n",
        "spam.setdefault('color':'black')\n"
      ]
    },
    {
      "cell_type": "markdown",
      "metadata": {
        "id": "_DNTtX5luRxS"
      },
      "source": [
        "## 8. How do you &quot;pretty print&quot; dictionary values using which module and function?\n",
        "\n",
        "Sol: pprint.pprint()"
      ]
    },
    {
      "cell_type": "code",
      "execution_count": null,
      "metadata": {
        "id": "KB0aOB_guR6R"
      },
      "outputs": [],
      "source": []
    },
    {
      "cell_type": "code",
      "execution_count": null,
      "metadata": {},
      "outputs": [],
      "source": []
    },
    {
      "cell_type": "code",
      "execution_count": null,
      "metadata": {},
      "outputs": [],
      "source": []
    },
    {
      "cell_type": "code",
      "execution_count": null,
      "metadata": {},
      "outputs": [],
      "source": []
    },
    {
      "cell_type": "code",
      "execution_count": null,
      "metadata": {},
      "outputs": [],
      "source": []
    }
  ],
  "metadata": {
    "colab": {
      "provenance": []
    },
    "kernelspec": {
      "display_name": "Python 3",
      "name": "python3"
    },
    "language_info": {
      "codemirror_mode": {
        "name": "ipython",
        "version": 3
      },
      "file_extension": ".py",
      "mimetype": "text/x-python",
      "name": "python",
      "nbconvert_exporter": "python",
      "pygments_lexer": "ipython3",
      "version": "3.11.5"
    }
  },
  "nbformat": 4,
  "nbformat_minor": 0
}
